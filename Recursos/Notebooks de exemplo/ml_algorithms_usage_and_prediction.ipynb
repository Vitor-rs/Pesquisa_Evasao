{
  "metadata": {
    "kernelspec": {
      "language": "python",
      "display_name": "Python 3",
      "name": "python3"
    },
    "language_info": {
      "pygments_lexer": "ipython3",
      "nbconvert_exporter": "python",
      "version": "3.6.4",
      "file_extension": ".py",
      "codemirror_mode": {
        "name": "ipython",
        "version": 3
      },
      "name": "python",
      "mimetype": "text/x-python"
    },
    "colab": {
      "provenance": [],
      "include_colab_link": true
    }
  },
  "nbformat_minor": 0,
  "nbformat": 4,
  "cells": [
    {
      "cell_type": "markdown",
      "metadata": {
        "id": "view-in-github",
        "colab_type": "text"
      },
      "source": [
        "<a href=\"https://colab.research.google.com/github/VitorGit93/Pesquisa_Evasao/blob/main/Recursos/Notebooks%20de%20exemplo/ml_algorithms_usage_and_prediction.ipynb\" target=\"_parent\"><img src=\"https://colab.research.google.com/assets/colab-badge.svg\" alt=\"Open In Colab\"/></a>"
      ]
    },
    {
      "cell_type": "markdown",
      "source": [
        "### Machine Learning is a vast topic and as the name says, it can be defined as teaching our machines certain things, certain processes so that machine can behave correctly as per the knowledge it gains from learning.\n",
        "\n",
        "#### There are many algorithms for Machine Learning and we will see each one's usage in this notebook.\n",
        "\n",
        "#### We use this student dataset about students and apply these algorithms to find out which one gives better performance for this particular dataset.\n",
        "\n",
        "_______________________________________________________"
      ],
      "metadata": {
        "id": "KBaj_b2QukqH"
      }
    },
    {
      "cell_type": "markdown",
      "source": [
        "### Importing the libraries"
      ],
      "metadata": {
        "id": "O8bC4qsUukqN"
      }
    },
    {
      "cell_type": "code",
      "source": [
        "import numpy as np\n",
        "import pandas as pd\n",
        "\n",
        "import matplotlib.pyplot as plt\n",
        "%matplotlib inline\n",
        "import plotly.express as px\n",
        "from plotly.offline import init_notebook_mode, iplot\n",
        "init_notebook_mode(connected=True)\n",
        "\n",
        "import seaborn as sns\n",
        "\n",
        "from sklearn.decomposition import PCA\n",
        "\n",
        "from sklearn.preprocessing import StandardScaler\n",
        "from sklearn.model_selection import train_test_split\n",
        "from sklearn.model_selection import cross_val_score\n",
        "from sklearn.model_selection import GridSearchCV, RandomizedSearchCV\n",
        "\n",
        "from sklearn.metrics import accuracy_score\n",
        "from sklearn.metrics import precision_score, recall_score, f1_score\n",
        "\n",
        "import pickle\n",
        "\n",
        "import warnings\n",
        "warnings.filterwarnings('ignore')"
      ],
      "metadata": {
        "_uuid": "8f2839f25d086af736a60e9eeb907d3b93b6e0e5",
        "_cell_guid": "b1076dfc-b9ad-4769-8c92-a6c4dae69d19",
        "execution": {
          "iopub.status.busy": "2023-02-25T06:11:37.483961Z",
          "iopub.execute_input": "2023-02-25T06:11:37.484413Z",
          "iopub.status.idle": "2023-02-25T06:11:37.499175Z",
          "shell.execute_reply.started": "2023-02-25T06:11:37.484378Z",
          "shell.execute_reply": "2023-02-25T06:11:37.497620Z"
        },
        "trusted": true,
        "id": "2b8idjlVukqO"
      },
      "execution_count": null,
      "outputs": []
    },
    {
      "cell_type": "markdown",
      "source": [
        "### Reading the dataset from CSV file"
      ],
      "metadata": {
        "id": "fpwrPgxzukqR"
      }
    },
    {
      "cell_type": "code",
      "source": [
        "student = pd.read_csv('/kaggle/input/higher-education-predictors-of-student-retention/dataset.csv')"
      ],
      "metadata": {
        "execution": {
          "iopub.status.busy": "2023-02-25T06:11:37.501259Z",
          "iopub.execute_input": "2023-02-25T06:11:37.502187Z",
          "iopub.status.idle": "2023-02-25T06:11:37.546565Z",
          "shell.execute_reply.started": "2023-02-25T06:11:37.502147Z",
          "shell.execute_reply": "2023-02-25T06:11:37.545534Z"
        },
        "trusted": true,
        "id": "cYtMi1MSukqR"
      },
      "execution_count": null,
      "outputs": []
    },
    {
      "cell_type": "markdown",
      "source": [
        "#### Once this data is in the DataFrame, we will perform following steps:\n",
        "1. Understand the data\n",
        "2. Pre-processing, Exploratory Data Analysis (EDA), Feature Selection\n",
        "3. Extract Input and Output columns\n",
        "4. Scaling the values\n",
        "5. Splitting the data into Training & Testing Data\n",
        "6. Training the model\n",
        "7. Evaluate the model & Select the Model\n",
        "8. Model Tuning\n",
        "9. Model Deployement"
      ],
      "metadata": {
        "id": "nd2v1jcoukqS"
      }
    },
    {
      "cell_type": "markdown",
      "source": [
        "## **Understanding the data**"
      ],
      "metadata": {
        "id": "3ITljay1ukqT"
      }
    },
    {
      "cell_type": "code",
      "source": [
        "# check the shape of the dataset in student DataFrame\n",
        "student.shape"
      ],
      "metadata": {
        "execution": {
          "iopub.status.busy": "2023-02-25T06:11:38.193380Z",
          "iopub.execute_input": "2023-02-25T06:11:38.194869Z",
          "iopub.status.idle": "2023-02-25T06:11:38.202846Z",
          "shell.execute_reply.started": "2023-02-25T06:11:38.194821Z",
          "shell.execute_reply": "2023-02-25T06:11:38.201691Z"
        },
        "trusted": true,
        "id": "xhJEUgFfukqU"
      },
      "execution_count": null,
      "outputs": []
    },
    {
      "cell_type": "code",
      "source": [
        "# See which are the 35 columns\n",
        "student.columns"
      ],
      "metadata": {
        "_kg_hide-output": true,
        "execution": {
          "iopub.status.busy": "2023-02-25T06:11:38.205811Z",
          "iopub.execute_input": "2023-02-25T06:11:38.207106Z",
          "iopub.status.idle": "2023-02-25T06:11:38.216404Z",
          "shell.execute_reply.started": "2023-02-25T06:11:38.207055Z",
          "shell.execute_reply": "2023-02-25T06:11:38.215129Z"
        },
        "trusted": true,
        "id": "NVXr0OwlukqV"
      },
      "execution_count": null,
      "outputs": []
    },
    {
      "cell_type": "code",
      "source": [
        "# How the data looks\n",
        "student.sample(4)\n"
      ],
      "metadata": {
        "execution": {
          "iopub.status.busy": "2023-02-25T06:11:38.233377Z",
          "iopub.execute_input": "2023-02-25T06:11:38.234402Z",
          "iopub.status.idle": "2023-02-25T06:11:38.258676Z",
          "shell.execute_reply.started": "2023-02-25T06:11:38.234358Z",
          "shell.execute_reply": "2023-02-25T06:11:38.257441Z"
        },
        "trusted": true,
        "id": "NPmnCKtgukqW"
      },
      "execution_count": null,
      "outputs": []
    },
    {
      "cell_type": "code",
      "source": [
        "student.head(5)"
      ],
      "metadata": {
        "execution": {
          "iopub.status.busy": "2023-02-25T06:11:38.261067Z",
          "iopub.execute_input": "2023-02-25T06:11:38.261632Z",
          "iopub.status.idle": "2023-02-25T06:11:38.288711Z",
          "shell.execute_reply.started": "2023-02-25T06:11:38.261585Z",
          "shell.execute_reply": "2023-02-25T06:11:38.287213Z"
        },
        "trusted": true,
        "id": "nfQ5P1fRukqX"
      },
      "execution_count": null,
      "outputs": []
    },
    {
      "cell_type": "code",
      "source": [
        "# Check info about all the columns\n",
        "student.info()"
      ],
      "metadata": {
        "_kg_hide-output": true,
        "execution": {
          "iopub.status.busy": "2023-02-25T06:11:38.290665Z",
          "iopub.execute_input": "2023-02-25T06:11:38.291030Z",
          "iopub.status.idle": "2023-02-25T06:11:38.310356Z",
          "shell.execute_reply.started": "2023-02-25T06:11:38.290991Z",
          "shell.execute_reply": "2023-02-25T06:11:38.309065Z"
        },
        "trusted": true,
        "id": "yaJeRUDbukqX"
      },
      "execution_count": null,
      "outputs": []
    },
    {
      "cell_type": "markdown",
      "source": [
        "## **Pre-processing**"
      ],
      "metadata": {
        "id": "WMD3kOcYukqX"
      }
    },
    {
      "cell_type": "markdown",
      "source": [
        "### Looks like there are no nulls or duplicates but still we can check and handle if required."
      ],
      "metadata": {
        "id": "QYx3HRk6ukqY"
      }
    },
    {
      "cell_type": "code",
      "source": [
        "print(student.isnull().sum())"
      ],
      "metadata": {
        "_kg_hide-output": true,
        "execution": {
          "iopub.status.busy": "2023-02-25T06:11:38.759432Z",
          "iopub.execute_input": "2023-02-25T06:11:38.759881Z",
          "iopub.status.idle": "2023-02-25T06:11:38.771508Z",
          "shell.execute_reply.started": "2023-02-25T06:11:38.759844Z",
          "shell.execute_reply": "2023-02-25T06:11:38.770039Z"
        },
        "trusted": true,
        "id": "C_QrBWE1ukqY"
      },
      "execution_count": null,
      "outputs": []
    },
    {
      "cell_type": "code",
      "source": [
        "print(student.duplicated().sum())"
      ],
      "metadata": {
        "_kg_hide-output": true,
        "execution": {
          "iopub.status.busy": "2023-02-25T06:11:38.773798Z",
          "iopub.execute_input": "2023-02-25T06:11:38.774636Z",
          "iopub.status.idle": "2023-02-25T06:11:38.788833Z",
          "shell.execute_reply.started": "2023-02-25T06:11:38.774583Z",
          "shell.execute_reply": "2023-02-25T06:11:38.787353Z"
        },
        "trusted": true,
        "id": "FVC6EHP8ukqY"
      },
      "execution_count": null,
      "outputs": []
    },
    {
      "cell_type": "markdown",
      "source": [
        "#### Only **Target** column is non-numeric which we can convert to numeric\n",
        "#### Note that **Target** column is a output column so we need it in numeric form so that we can find it's correlation with others"
      ],
      "metadata": {
        "id": "5UbXqQWWukqZ"
      }
    },
    {
      "cell_type": "code",
      "source": [
        "student['Target'].unique()"
      ],
      "metadata": {
        "execution": {
          "iopub.status.busy": "2023-02-25T06:11:38.790796Z",
          "iopub.execute_input": "2023-02-25T06:11:38.791952Z",
          "iopub.status.idle": "2023-02-25T06:11:38.799660Z",
          "shell.execute_reply.started": "2023-02-25T06:11:38.791910Z",
          "shell.execute_reply": "2023-02-25T06:11:38.798436Z"
        },
        "trusted": true,
        "id": "EtEKJrL3ukqZ"
      },
      "execution_count": null,
      "outputs": []
    },
    {
      "cell_type": "markdown",
      "source": [
        "### So there are 3 unique values in target column which we can replace by\n",
        "* Dropout -> 0\n",
        "* Enrolled -> 1\n",
        "* Graduate -> 2"
      ],
      "metadata": {
        "id": "LuD28qyQukqZ"
      }
    },
    {
      "cell_type": "code",
      "source": [
        "student['Target'] = student['Target'].map({\n",
        "    'Dropout':0,\n",
        "    'Enrolled':1,\n",
        "    'Graduate':2\n",
        "})"
      ],
      "metadata": {
        "execution": {
          "iopub.status.busy": "2023-02-25T06:11:38.823285Z",
          "iopub.execute_input": "2023-02-25T06:11:38.823718Z",
          "iopub.status.idle": "2023-02-25T06:11:38.831532Z",
          "shell.execute_reply.started": "2023-02-25T06:11:38.823684Z",
          "shell.execute_reply": "2023-02-25T06:11:38.830048Z"
        },
        "trusted": true,
        "id": "f80VcJvcukqa"
      },
      "execution_count": null,
      "outputs": []
    },
    {
      "cell_type": "code",
      "source": [
        "# Check Target column, it must have filled with 0, 1 & 2\n",
        "student"
      ],
      "metadata": {
        "execution": {
          "iopub.status.busy": "2023-02-25T06:11:38.834544Z",
          "iopub.execute_input": "2023-02-25T06:11:38.835029Z",
          "iopub.status.idle": "2023-02-25T06:11:38.866687Z",
          "shell.execute_reply.started": "2023-02-25T06:11:38.834974Z",
          "shell.execute_reply": "2023-02-25T06:11:38.865441Z"
        },
        "trusted": true,
        "id": "1U51MIvTukqa"
      },
      "execution_count": null,
      "outputs": []
    },
    {
      "cell_type": "code",
      "source": [
        "student.dtypes\n",
        "# Target column is integer now"
      ],
      "metadata": {
        "_kg_hide-output": true,
        "execution": {
          "iopub.status.busy": "2023-02-25T06:11:38.868082Z",
          "iopub.execute_input": "2023-02-25T06:11:38.868430Z",
          "iopub.status.idle": "2023-02-25T06:11:38.877519Z",
          "shell.execute_reply.started": "2023-02-25T06:11:38.868399Z",
          "shell.execute_reply": "2023-02-25T06:11:38.876257Z"
        },
        "trusted": true,
        "id": "CbzdB--Zukqa"
      },
      "execution_count": null,
      "outputs": []
    },
    {
      "cell_type": "code",
      "source": [
        "# Learn the data mathematically\n",
        "student.describe()"
      ],
      "metadata": {
        "execution": {
          "iopub.status.busy": "2023-02-25T06:11:38.879301Z",
          "iopub.execute_input": "2023-02-25T06:11:38.879912Z",
          "iopub.status.idle": "2023-02-25T06:11:38.989124Z",
          "shell.execute_reply.started": "2023-02-25T06:11:38.879875Z",
          "shell.execute_reply": "2023-02-25T06:11:38.987782Z"
        },
        "trusted": true,
        "id": "yDLjY5_Dukqa"
      },
      "execution_count": null,
      "outputs": []
    },
    {
      "cell_type": "markdown",
      "source": [
        "### Finally find the correlation of Target with all other numeric columns"
      ],
      "metadata": {
        "execution": {
          "iopub.status.busy": "2023-01-28T13:03:45.567452Z",
          "iopub.execute_input": "2023-01-28T13:03:45.567869Z",
          "iopub.status.idle": "2023-01-28T13:03:45.574884Z",
          "shell.execute_reply.started": "2023-01-28T13:03:45.567836Z",
          "shell.execute_reply": "2023-01-28T13:03:45.574005Z"
        },
        "id": "qaU4Hglmukqb"
      }
    },
    {
      "cell_type": "code",
      "source": [
        "student.corr()['Target']"
      ],
      "metadata": {
        "_kg_hide-output": true,
        "execution": {
          "iopub.status.busy": "2023-02-25T06:11:38.991524Z",
          "iopub.execute_input": "2023-02-25T06:11:38.991940Z",
          "iopub.status.idle": "2023-02-25T06:11:39.019584Z",
          "shell.execute_reply.started": "2023-02-25T06:11:38.991904Z",
          "shell.execute_reply": "2023-02-25T06:11:39.018238Z"
        },
        "trusted": true,
        "id": "iP3ukRUUukqb"
      },
      "execution_count": null,
      "outputs": []
    },
    {
      "cell_type": "code",
      "source": [
        "fig = px.imshow(student)\n",
        "fig.show()"
      ],
      "metadata": {
        "execution": {
          "iopub.status.busy": "2023-02-25T06:11:39.021327Z",
          "iopub.execute_input": "2023-02-25T06:11:39.021710Z"
        },
        "trusted": true,
        "id": "21zwfwldukqb"
      },
      "execution_count": null,
      "outputs": []
    },
    {
      "cell_type": "markdown",
      "source": [
        "### Looking at the corelation, we need to select the required columns for prediction."
      ],
      "metadata": {
        "id": "45SGftLdukqb"
      }
    },
    {
      "cell_type": "code",
      "source": [
        "# This is the new Df considering relevant input and output columns\n",
        "student_df = student.iloc[:,[1,11,13,14,15,16,17,20,22,23,26,28,29,34]]"
      ],
      "metadata": {
        "trusted": true,
        "id": "dHjR9PAWukqb"
      },
      "execution_count": null,
      "outputs": []
    },
    {
      "cell_type": "code",
      "source": [
        "student_df.head()"
      ],
      "metadata": {
        "trusted": true,
        "id": "4BWHPUMXukqc"
      },
      "execution_count": null,
      "outputs": []
    },
    {
      "cell_type": "code",
      "source": [
        "student_df.info()"
      ],
      "metadata": {
        "_kg_hide-output": true,
        "trusted": true,
        "id": "VG8-rsrxukqc"
      },
      "execution_count": null,
      "outputs": []
    },
    {
      "cell_type": "code",
      "source": [
        "\n",
        "sns.heatmap(student_df)"
      ],
      "metadata": {
        "trusted": true,
        "id": "SWFVvrSiukqc"
      },
      "execution_count": null,
      "outputs": []
    },
    {
      "cell_type": "markdown",
      "source": [
        "## **EDA -  We will perform Exploratory Data Analysis on student_df**"
      ],
      "metadata": {
        "id": "0VNCxAvIukqc"
      }
    },
    {
      "cell_type": "code",
      "source": [
        "# How many dropouts, enrolled & graduates are there in Target column\n",
        "student_df['Target'].value_counts()"
      ],
      "metadata": {
        "trusted": true,
        "id": "8fc7PKinukqc"
      },
      "execution_count": null,
      "outputs": []
    },
    {
      "cell_type": "code",
      "source": [
        "# Plot the above values\n",
        "x = student_df['Target'].value_counts().index\n",
        "y = student_df['Target'].value_counts().values\n",
        "\n",
        "df = pd.DataFrame({\n",
        "    'Target': x,\n",
        "    'Count_T' : y\n",
        "})\n",
        "\n",
        "fig = px.pie(df,\n",
        "             names ='Target',\n",
        "             values ='Count_T',\n",
        "            title='How many dropouts, enrolled & graduates are there in Target column')\n",
        "\n",
        "fig.update_traces(labels=['Graduate','Dropout','Enrolled'], hole=0.4,textinfo='value+label', pull=[0,0.2,0.1])\n",
        "fig.show()"
      ],
      "metadata": {
        "trusted": true,
        "id": "XyqtMYCZukqd"
      },
      "execution_count": null,
      "outputs": []
    },
    {
      "cell_type": "code",
      "source": [
        "# Now see the corelation of Target with the rest\n",
        "student_df.corr()['Target']"
      ],
      "metadata": {
        "trusted": true,
        "id": "3hT8zBLJukqd"
      },
      "execution_count": null,
      "outputs": []
    },
    {
      "cell_type": "markdown",
      "source": [
        "### Let's plot the column ***Curricular units 2nd sem (approved)*** againt ***Curricular units 1st sem (approved)*** and differentiate ***Target*** by color"
      ],
      "metadata": {
        "id": "KCf50kV2ukqd"
      }
    },
    {
      "cell_type": "code",
      "source": [
        "fig = px.scatter(student_df,\n",
        "             x = 'Curricular units 1st sem (approved)',\n",
        "             y = 'Curricular units 2nd sem (approved)',\n",
        "             color = 'Target')\n",
        "fig.show()"
      ],
      "metadata": {
        "trusted": true,
        "id": "ggT9ObqSukqe"
      },
      "execution_count": null,
      "outputs": []
    },
    {
      "cell_type": "markdown",
      "source": [
        "### Let's plot the column ***Curricular units 1st sem (grade)*** againt ***Curricular units 1st sem (grade)*** and differentiate ***Target*** by color"
      ],
      "metadata": {
        "id": "X1WzNb2Hukqe"
      }
    },
    {
      "cell_type": "code",
      "source": [
        "fig = px.scatter(student_df,\n",
        "             x = 'Curricular units 1st sem (grade)',\n",
        "             y = 'Curricular units 2nd sem (grade)',\n",
        "             color = 'Target')\n",
        "fig.show()"
      ],
      "metadata": {
        "trusted": true,
        "id": "uslTHHppukqe"
      },
      "execution_count": null,
      "outputs": []
    },
    {
      "cell_type": "code",
      "source": [
        "fig = px.scatter(student_df,\n",
        "             x = 'Curricular units 1st sem (enrolled)',\n",
        "             y = 'Curricular units 2nd sem (enrolled)',\n",
        "             color = 'Target')\n",
        "fig.show()"
      ],
      "metadata": {
        "trusted": true,
        "id": "f96zjzDYukqk"
      },
      "execution_count": null,
      "outputs": []
    },
    {
      "cell_type": "code",
      "source": [
        "fig = px.box(student_df, y='Age at enrollment')\n",
        "fig.show()"
      ],
      "metadata": {
        "trusted": true,
        "id": "Wh4K1hrjukqk"
      },
      "execution_count": null,
      "outputs": []
    },
    {
      "cell_type": "code",
      "source": [
        "# Distribution of age of students at the time of enrollment\n",
        "sns.histplot(data=student_df['Age at enrollment'], kde=True)"
      ],
      "metadata": {
        "trusted": true,
        "id": "8NxjCd48ukql"
      },
      "execution_count": null,
      "outputs": []
    },
    {
      "cell_type": "code",
      "source": [
        "# Let's try plotly histogram for interactive figure\n",
        "px.histogram(student_df['Age at enrollment'], x='Age at enrollment',color_discrete_sequence=['red'])"
      ],
      "metadata": {
        "trusted": true,
        "id": "-006vaIhukql"
      },
      "execution_count": null,
      "outputs": []
    },
    {
      "cell_type": "markdown",
      "source": [
        "## Extract Input & Output Columns"
      ],
      "metadata": {
        "id": "JFHtVp0aukql"
      }
    },
    {
      "cell_type": "code",
      "source": [
        "X = student_df.iloc[:,0:13]\n",
        "y = student_df.iloc[:,-1]\n",
        "X"
      ],
      "metadata": {
        "trusted": true,
        "id": "cT3NI8OLukql"
      },
      "execution_count": null,
      "outputs": []
    },
    {
      "cell_type": "markdown",
      "source": [
        "## **Splitting the data into Training & Testing Data**"
      ],
      "metadata": {
        "id": "3SXfoeE_ukql"
      }
    },
    {
      "cell_type": "code",
      "source": [
        "X_train,X_test,y_train,y_test = train_test_split(X,y,test_size=0.2)"
      ],
      "metadata": {
        "trusted": true,
        "id": "mxjd0ud0ukql"
      },
      "execution_count": null,
      "outputs": []
    },
    {
      "cell_type": "code",
      "source": [
        "print(X_train.shape)\n",
        "print(X_test.shape)\n",
        "print(y_train.shape)\n",
        "print(y_test.shape)"
      ],
      "metadata": {
        "trusted": true,
        "id": "y9Rj8HgWukql"
      },
      "execution_count": null,
      "outputs": []
    },
    {
      "cell_type": "markdown",
      "source": [
        "## **Training the model**"
      ],
      "metadata": {
        "id": "d3YoPctUukqm"
      }
    },
    {
      "cell_type": "markdown",
      "source": [
        "### Logistic Regression"
      ],
      "metadata": {
        "id": "2Usloyfzukqm"
      }
    },
    {
      "cell_type": "code",
      "source": [
        "from sklearn.linear_model import LogisticRegression\n",
        "clf = LogisticRegression()\n",
        "\n",
        "# Without Scaling\n",
        "clf.fit(X_train,y_train)\n",
        "y_pred = clf.predict(X_test)\n",
        "print(\"Without Scaling and without CV: \",accuracy_score(y_test,y_pred))\n",
        "scores = cross_val_score(clf, X_train, y_train, cv=10)\n",
        "print(\"Without Scaling and With CV: \",scores.mean())"
      ],
      "metadata": {
        "trusted": true,
        "id": "YFSgC6lCukqm"
      },
      "execution_count": null,
      "outputs": []
    },
    {
      "cell_type": "markdown",
      "source": [
        "### SGD - Stochastic Gradient Descent"
      ],
      "metadata": {
        "id": "5krqaapbukqm"
      }
    },
    {
      "cell_type": "code",
      "source": [
        "from sklearn.linear_model import SGDClassifier\n",
        "clf = SGDClassifier(max_iter=1000, tol=1e-3)\n",
        "\n",
        "# Without Scaling\n",
        "clf.fit(X_train,y_train)\n",
        "y_pred = clf.predict(X_test)\n",
        "print(\"Without Scaling and without CV: \",accuracy_score(y_test,y_pred))\n",
        "scores = cross_val_score(clf, X_train, y_train, cv=10)\n",
        "print(\"Without Scaling and With CV: \",scores.mean())"
      ],
      "metadata": {
        "trusted": true,
        "id": "vNjZphFPukqm"
      },
      "execution_count": null,
      "outputs": []
    },
    {
      "cell_type": "markdown",
      "source": [
        "### Perceptron"
      ],
      "metadata": {
        "id": "Zlb1AGtkukqm"
      }
    },
    {
      "cell_type": "code",
      "source": [
        "from sklearn.linear_model import Perceptron\n",
        "# this is same as SGDClassifier(loss=\"perceptron\", eta0=1, learning_rate=\"constant\", penalty=None)\n",
        "\n",
        "clf = Perceptron(tol=1e-3, random_state=0)\n",
        "# Without Scaling\n",
        "clf.fit(X_train,y_train)\n",
        "y_pred = clf.predict(X_test)\n",
        "print(\"Without Scaling and without CV: \",accuracy_score(y_test,y_pred))\n",
        "scores = cross_val_score(clf, X_train, y_train, cv=10)\n",
        "print(\"Without Scaling and With CV: \",scores.mean())"
      ],
      "metadata": {
        "trusted": true,
        "id": "sVyzFvRPukqm"
      },
      "execution_count": null,
      "outputs": []
    },
    {
      "cell_type": "markdown",
      "source": [
        "### Logistic Regression CV"
      ],
      "metadata": {
        "id": "_B94IQrJukqn"
      }
    },
    {
      "cell_type": "code",
      "source": [
        "from sklearn.linear_model import LogisticRegressionCV\n",
        "clf = LogisticRegressionCV(cv=5, random_state=0)\n",
        "\n",
        "# Without Scaling\n",
        "clf.fit(X_train,y_train)\n",
        "y_pred = clf.predict(X_test)\n",
        "print(\"Without Scaling and without CV: \",accuracy_score(y_test,y_pred))\n",
        "scores = cross_val_score(clf, X_train, y_train, cv=10)\n",
        "print(\"Without Scaling and With CV: \",scores.mean())"
      ],
      "metadata": {
        "trusted": true,
        "id": "7paKjy1Qukqn"
      },
      "execution_count": null,
      "outputs": []
    },
    {
      "cell_type": "markdown",
      "source": [
        "### Decision Tree Classifier"
      ],
      "metadata": {
        "id": "oR9VjSk3ukqn"
      }
    },
    {
      "cell_type": "code",
      "source": [
        "# Using DecisionTreeClassifier\n",
        "from sklearn.tree import DecisionTreeClassifier\n",
        "clf = DecisionTreeClassifier(random_state=0)\n",
        "\n",
        "#without scaling\n",
        "clf.fit(X_train,y_train)\n",
        "y_pred = clf.predict(X_test)\n",
        "print(\"Without Scaling and without CV: \",accuracy_score(y_test,y_pred))\n",
        "scores = cross_val_score(clf, X_train, y_train, cv=10)\n",
        "print(\"Without Scaling and With CV: \",scores.mean())"
      ],
      "metadata": {
        "trusted": true,
        "id": "HatVdG6mukqn"
      },
      "execution_count": null,
      "outputs": []
    },
    {
      "cell_type": "markdown",
      "source": [
        "### Random Forest Classifier"
      ],
      "metadata": {
        "id": "IHcneI18ukqn"
      }
    },
    {
      "cell_type": "code",
      "source": [
        "from sklearn.ensemble import RandomForestClassifier\n",
        "\n",
        "clf = RandomForestClassifier(max_depth=10, random_state=0)\n",
        "\n",
        "clf.fit(X_train,y_train)\n",
        "y_pred = clf.predict(X_test)\n",
        "print(\"Without Scaling and without CV: \",accuracy_score(y_test,y_pred))\n",
        "scores = cross_val_score(clf, X_train, y_train, cv=10)\n",
        "print(\"Without Scaling and With CV: \",scores.mean())"
      ],
      "metadata": {
        "trusted": true,
        "id": "Ef4rDi_Yukqn"
      },
      "execution_count": null,
      "outputs": []
    },
    {
      "cell_type": "markdown",
      "source": [
        "### Suppport Vector Machines"
      ],
      "metadata": {
        "id": "ZVqrCacaukqo"
      }
    },
    {
      "cell_type": "code",
      "source": [
        "from sklearn.svm import SVC\n",
        "#clf = SVC(gamma='auto')\n",
        "\n",
        "svc = SVC()\n",
        "parameters = {'kernel':('linear', 'rbf'), 'C':[1, 10]}\n",
        "clf = GridSearchCV(svc, parameters)\n",
        "\n",
        "clf.fit(X_train,y_train)\n",
        "y_pred = clf.predict(X_test)\n",
        "print(\"Without Scaling and without CV: \",accuracy_score(y_test,y_pred))\n",
        "scores = cross_val_score(clf, X_train, y_train, cv=10)\n",
        "print(\"Without Scaling and With CV: \",scores.mean())\n"
      ],
      "metadata": {
        "trusted": true,
        "id": "jBusxfHNukqo"
      },
      "execution_count": null,
      "outputs": []
    },
    {
      "cell_type": "markdown",
      "source": [
        "### NuSVC"
      ],
      "metadata": {
        "id": "97N_KL5Xukqo"
      }
    },
    {
      "cell_type": "code",
      "source": [
        "from sklearn.svm import NuSVC\n",
        "clf = NuSVC()\n",
        "\n",
        "clf.fit(X_train,y_train)\n",
        "y_pred = clf.predict(X_test)\n",
        "print(\"Without Scaling and without CV: \",accuracy_score(y_test,y_pred))\n",
        "scores = cross_val_score(clf, X_train, y_train, cv=10)\n",
        "print(\"Without Scaling and With CV: \",scores.mean())"
      ],
      "metadata": {
        "trusted": true,
        "id": "TCv0HjUZukqo"
      },
      "execution_count": null,
      "outputs": []
    },
    {
      "cell_type": "markdown",
      "source": [
        "### Linear SVC"
      ],
      "metadata": {
        "id": "eTjRIvuFukqo"
      }
    },
    {
      "cell_type": "code",
      "source": [
        "from sklearn.svm import LinearSVC\n",
        "clf = LinearSVC(random_state=0, tol=1e-5)\n",
        "\n",
        "clf.fit(X_train,y_train)\n",
        "y_pred = clf.predict(X_test)\n",
        "print(\"Without Scaling and CV: \",accuracy_score(y_test,y_pred))\n",
        "scores = cross_val_score(clf, X_train, y_train, cv=10)\n",
        "print(\"Without Scaling and With CV: \",scores.mean())"
      ],
      "metadata": {
        "trusted": true,
        "id": "BGgGo3bbukqo"
      },
      "execution_count": null,
      "outputs": []
    },
    {
      "cell_type": "markdown",
      "source": [
        "## Naive Bayes"
      ],
      "metadata": {
        "id": "bxMVGkKFukqo"
      }
    },
    {
      "cell_type": "code",
      "source": [
        "from sklearn.naive_bayes import GaussianNB\n",
        "clf = GaussianNB()\n",
        "\n",
        "#y_pred = gnb.fit(X_train, y_train).predict(X_test)\n",
        "#print(\"Number of mislabeled points out of a total %d points : %d\" % (X_test.shape[0], (y_test != y_pred).sum()))\n",
        "\n",
        "clf.fit(X_train,y_train)\n",
        "y_pred = clf.predict(X_test)\n",
        "print(\"Without Scaling and CV: \",accuracy_score(y_test,y_pred))\n",
        "scores = cross_val_score(clf, X_train, y_train, cv=10)\n",
        "print(\"Without Scaling and With CV: \",scores.mean())"
      ],
      "metadata": {
        "trusted": true,
        "id": "RRAJwasgukqp"
      },
      "execution_count": null,
      "outputs": []
    },
    {
      "cell_type": "code",
      "source": [
        "from sklearn.naive_bayes import MultinomialNB\n",
        "clf = MultinomialNB()\n",
        "\n",
        "clf.fit(X_train,y_train)\n",
        "y_pred = clf.predict(X_test)\n",
        "print(\"Without Scaling and without CV: \",accuracy_score(y_test,y_pred))\n",
        "scores = cross_val_score(clf, X_train, y_train, cv=10)\n",
        "print(\"Without Scaling and With CV: \",scores.mean())"
      ],
      "metadata": {
        "trusted": true,
        "id": "fRMfAkI9ukqp"
      },
      "execution_count": null,
      "outputs": []
    },
    {
      "cell_type": "code",
      "source": [
        "from sklearn.naive_bayes import BernoulliNB\n",
        "clf = BernoulliNB()\n",
        "\n",
        "clf.fit(X_train,y_train)\n",
        "y_pred = clf.predict(X_test)\n",
        "print(\"Without Scaling and without CV: \",accuracy_score(y_test,y_pred))\n",
        "scores = cross_val_score(clf, X_train, y_train, cv=10)\n",
        "print(\"Without Scaling and With CV: \",scores.mean())"
      ],
      "metadata": {
        "trusted": true,
        "id": "CrxG4s1sukqp"
      },
      "execution_count": null,
      "outputs": []
    },
    {
      "cell_type": "code",
      "source": [
        "from sklearn.naive_bayes import CategoricalNB\n",
        "clf = CategoricalNB()\n",
        "\n",
        "clf.fit(X_train,y_train)\n",
        "y_pred = clf.predict(X_test)\n",
        "print(\"Without Scaling and without CV: \",accuracy_score(y_test,y_pred))"
      ],
      "metadata": {
        "trusted": true,
        "id": "MskGQB0cukqp"
      },
      "execution_count": null,
      "outputs": []
    },
    {
      "cell_type": "markdown",
      "source": [
        "### K Nearest Neighbours"
      ],
      "metadata": {
        "id": "6Pp0Lwb7ukqp"
      }
    },
    {
      "cell_type": "code",
      "source": [
        "from sklearn.neighbors import KNeighborsClassifier\n",
        "clf = KNeighborsClassifier(n_neighbors=3)\n",
        "\n",
        "clf.fit(X_train,y_train)\n",
        "y_pred = clf.predict(X_test)\n",
        "print(\"Without Scaling and without CV: \",accuracy_score(y_test,y_pred))\n",
        "scores = cross_val_score(clf, X_train, y_train, cv=10)\n",
        "print(\"Without Scaling and With CV: \",scores.mean())"
      ],
      "metadata": {
        "trusted": true,
        "id": "AbvqzbOOukqp"
      },
      "execution_count": null,
      "outputs": []
    },
    {
      "cell_type": "markdown",
      "source": [
        "## Model Selection"
      ],
      "metadata": {
        "id": "3vMxsP6nukqq"
      }
    },
    {
      "cell_type": "markdown",
      "source": [
        "#### Select the model which gives maximum accuracy. So we select Random Forest with accuracy 76.94 & 77.08 with Cross Validation"
      ],
      "metadata": {
        "id": "JKFXqWuVukqq"
      }
    },
    {
      "cell_type": "code",
      "source": [
        "clf = RandomForestClassifier(max_depth=10, random_state=0)\n",
        "clf.fit(X_train,y_train)\n",
        "y_pred = clf.predict(X_test)\n",
        "print(\"Without CV: \",accuracy_score(y_test,y_pred))\n",
        "scores = cross_val_score(clf, X_train, y_train, cv=10)\n",
        "\n",
        "print(\"With CV: \",scores.mean())\n",
        "print(\"Precision Score: \", precision_score(y_test, y_pred,average='macro'))\n",
        "print(\"Recall Score: \", recall_score(y_test, y_pred,average='macro'))\n",
        "print(\"F1 Score: \", f1_score(y_test, y_pred,average='macro'))"
      ],
      "metadata": {
        "trusted": true,
        "id": "mBmKiX75ukqq"
      },
      "execution_count": null,
      "outputs": []
    },
    {
      "cell_type": "code",
      "source": [
        "param_grid = {\n",
        "    'bootstrap': [False,True],\n",
        "    'max_depth': [5,8,10, 20],\n",
        "    'max_features': [3, 4, 5, None],\n",
        "    'min_samples_split': [2, 10, 12],\n",
        "    'n_estimators': [100, 200, 300]\n",
        "}\n",
        "\n",
        "rfc = RandomForestClassifier()\n",
        "\n",
        "clf = GridSearchCV(estimator = rfc, param_grid = param_grid, cv = 5, n_jobs = -1, verbose = 1)\n",
        "\n",
        "clf.fit(X_train,y_train)\n",
        "y_pred = clf.predict(X_test)\n",
        "print(\"Accuracy: \",accuracy_score(y_test,y_pred))\n",
        "print(clf.best_params_)\n",
        "print(clf.best_estimator_)"
      ],
      "metadata": {
        "trusted": true,
        "id": "eH3XX4MFukqq"
      },
      "execution_count": null,
      "outputs": []
    },
    {
      "cell_type": "code",
      "source": [
        "clf = RandomForestClassifier(bootstrap=False, max_depth=10,max_features=3,\n",
        "                             min_samples_split=12,\n",
        "                             n_estimators=100, random_state=0)\n",
        "clf.fit(X_train,y_train)\n",
        "y_pred = clf.predict(X_test)\n",
        "print(\"Without CV: \",accuracy_score(y_test,y_pred))\n",
        "scores = cross_val_score(clf, X_train, y_train, cv=10)\n",
        "print(\"With CV: \",scores.mean())\n",
        "\n",
        "print(\"Precision Score: \", precision_score(y_test, y_pred,average='micro'))\n",
        "print(\"Recall Score: \", recall_score(y_test, y_pred,average='micro'))\n",
        "print(\"F1 Score: \", f1_score(y_test, y_pred,average='micro'))"
      ],
      "metadata": {
        "trusted": true,
        "id": "csgmiHYkukqq"
      },
      "execution_count": null,
      "outputs": []
    },
    {
      "cell_type": "code",
      "source": [],
      "metadata": {
        "id": "whBGBwPzukqq"
      },
      "execution_count": null,
      "outputs": []
    }
  ]
}