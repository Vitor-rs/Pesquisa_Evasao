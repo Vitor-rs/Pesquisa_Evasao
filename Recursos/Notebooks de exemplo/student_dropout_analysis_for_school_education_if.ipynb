{
  "metadata": {
    "kernelspec": {
      "language": "python",
      "display_name": "Python 3",
      "name": "python3"
    },
    "language_info": {
      "pygments_lexer": "ipython3",
      "nbconvert_exporter": "python",
      "version": "3.6.4",
      "file_extension": ".py",
      "codemirror_mode": {
        "name": "ipython",
        "version": 3
      },
      "name": "python",
      "mimetype": "text/x-python"
    },
    "colab": {
      "provenance": [],
      "include_colab_link": true
    }
  },
  "nbformat_minor": 0,
  "nbformat": 4,
  "cells": [
    {
      "cell_type": "markdown",
      "metadata": {
        "id": "view-in-github",
        "colab_type": "text"
      },
      "source": [
        "<a href=\"https://colab.research.google.com/github/VitorGit93/Pesquisa_Evasao/blob/main/Recursos/Notebooks%20de%20exemplo/student_dropout_analysis_for_school_education_if.ipynb\" target=\"_parent\"><img src=\"https://colab.research.google.com/assets/colab-badge.svg\" alt=\"Open In Colab\"/></a>"
      ]
    },
    {
      "cell_type": "markdown",
      "source": [
        "# **Student Dropout Analysis for School Education**"
      ],
      "metadata": {
        "id": "4Ae3W40Fsyb4"
      }
    },
    {
      "cell_type": "markdown",
      "source": [
        "**Introduction:**\n",
        "              Access to quality education is a fundamental right, and governments worldwide strive to ensure every child's enrollment and completion of their schooling. However, dropout rates in schools remain a persistent challenge, often influenced by various social, economic, and demographic factors. In an effort to address this issue, the Government of Gujarat has recognized the need for a comprehensive analysis of dropout patterns at the school level. By understanding the underlying causes and identifying vulnerable groups, the government aims to formulate targeted interventions that can significantly reduce dropout rates.\n",
        "\n",
        "This notebook presents an in-depth analysis of student dropout trends in school education, utilizing a dataset titled \"Predict Students' Dropout and Academic Success - Investigating the Impact of Social and Economic Factors.\" **The dataset, sourced from Kaggle and contributed by thedevastator**(https://www.kaggle.com/thedevastator), encompasses a wide range of attributes that shed light on the dynamics contributing to student dropout."
      ],
      "metadata": {
        "id": "_XQyv4Tusyb-"
      }
    },
    {
      "cell_type": "markdown",
      "source": [
        "**Project Overview:**\n",
        "                  The primary objective of this project is to conduct a comprehensive analysis of student dropout rates in school education, with a focus on the state of Gujarat, utilizing the available dataset titled \"Predict Students' Dropout and Academic Success - Investigating the Impact of Social and Economic Factors.\" While the dataset may not include information on schools, areas, or castes, we can still extract valuable insights from the existing attributes.\n",
        "\n",
        "The analysis aims to provide insights into the following key aspects:\n",
        "\n",
        "**Demographic Analysis:** We will explore how demographic factors such as gender, age at enrollment, marital status, and nationality correlate with student dropout rates.\n",
        "\n",
        "**Economic Factors:** Investigate the influence of economic factors, such as parental occupation, tuition fee payment status, and scholarship eligibility, on student dropout rates.\n",
        "\n",
        "**Academic Performance:** Analyze how students' academic performance, represented by variables like curricular units and evaluations, impacts their likelihood of dropping out.\n",
        "\n",
        "**Social and Special Needs:** Explore whether students with educational special needs or those facing unique challenges like displacement or debt are more susceptible to dropout.\n",
        "\n",
        "**Macro-economic Factors:** Investigate how broader economic indicators like unemployment rate, inflation rate, and GDP growth relate to dropout rates, as these can indirectly affect education outcomes.\n",
        "\n",
        "The expected outcome of this analysis is to provide valuable insights into the complex web of factors influencing student dropout. By identifying high-risk groups and understanding the nuanced factors contributing to dropout rates, the government can develop targeted interventions and policies to improve student retention and foster a conducive learning environment.\n",
        "\n",
        "In the subsequent sections of this notebook, we will delve into data preprocessing, exploratory data analysis, and the development of predictive models to aid in the dropout analysis. While we may not have school-wise, area-wise, or caste-wise information, we will use the available attributes to contribute to the government's efforts in ensuring every child's right to education and reducing dropout rates where possible."
      ],
      "metadata": {
        "id": "UbQt_FlFsycA"
      }
    },
    {
      "cell_type": "markdown",
      "source": [
        ""
      ],
      "metadata": {
        "id": "6vW9sA02sycB"
      }
    },
    {
      "cell_type": "markdown",
      "source": [
        "**About DataSet:**\n",
        "This dataset provides a comprehensive view of students enrolled in various undergraduate degrees offered at a higher education institution. It includes demographic data, social-economic factors and academic performance information that can be used to analyze the possible predictors of student dropout and academic success. This dataset contains multiple disjoint databases consisting of relevant information available at the time of enrollment, such as application mode, marital status, course chosen and more. Additionally, this data can be used to estimate overall student performance at the end of each semester by assessing curricular units credited/enrolled/evaluated/approved as well as their respective grades. Finally, we have unemployment rate, inflation rate and GDP from the region which can help us further understand how economic factors play into student dropout rates or academic success outcomes. This powerful analysis tool will provide valuable insight into what motivates students to stay in school or abandon their studies for a wide range of disciplines such as agronomy, design, education nursing journalism management social service or technologies"
      ],
      "metadata": {
        "id": "3CXTYpv1sycC"
      }
    },
    {
      "cell_type": "markdown",
      "source": [
        "**Columns:**\n",
        "\n",
        "| **Column Name**                     | **Description**                                                                                         |\n",
        "|---------------------------------|-----------------------------------------------------------------------------------------------------|\n",
        "| Marital status                  | The marital status of the student. (Categorical)                                                     |\n",
        "| Application mode                | The method of application used by the student. (Categorical)                                         |\n",
        "| Application order               | The order in which the student applied. (Numerical)                                                  |\n",
        "| Course                          | The course taken by the student. (Categorical)                                                       |\n",
        "| Daytime/evening attendance      | Whether the student attends classes during the day or in the evening. (Categorical)                 |\n",
        "| Previous qualification          | The qualification obtained by the student before enrolling in higher education. (Categorical)       |\n",
        "| Nationality                     | The nationality of the student. (Categorical)                                                         |\n",
        "| Mother's qualification          | The qualification of the student's mother. (Categorical)                                              |\n",
        "| Father's qualification          | The qualification of the student's father. (Categorical)                                              |\n",
        "| Mother's occupation             | The occupation of the student's mother. (Categorical)                                                 |\n",
        "| Father's occupation             | The occupation of the student's father. (Categorical)                                                 |\n",
        "| Displaced                       | Whether the student is a displaced person. (Categorical)                                             |\n",
        "| Educational special needs       | Whether the student has any special educational needs. (Categorical)                                 |\n",
        "| Debtor                          | Whether the student is a debtor. (Categorical)                                                       |\n",
        "| Tuition fees up to date         | Whether the student's tuition fees are up to date. (Categorical)                                      |\n",
        "| Gender                          | The gender of the student. (Categorical)                                                               |\n",
        "| Scholarship holder              | Whether the student is a scholarship holder. (Categorical)                                            |\n",
        "| Age at enrollment               | The age of the student at the time of enrollment. (Numerical)                                         |\n",
        "| International                   | Whether the student is an international student. (Categorical)                                        |\n",
        "| Curricular units 1st sem (credited) | The number of curricular units credited by the student in the first semester. (Numerical)       |\n",
        "| Curricular units 1st sem (enrolled) | The number of curricular units enrolled by the student in the first semester. (Numerical)       |\n",
        "| Curricular units 1st sem (evaluations) | The number of curricular units evaluated by the student in the first semester. (Numerical)   |\n",
        "| Curricular units 1st sem (approved) | The number of curricular units approved by the student in the first semester. (Numerical)     |\n"
      ],
      "metadata": {
        "id": "cIvS5FZksycC"
      }
    },
    {
      "cell_type": "markdown",
      "source": [
        "<div style=\"color:white;display:fill;border-radius:8px;\n",
        "            background-color:#03112A;font-size:150%;\n",
        "            letter-spacing:1.0px\">\n",
        "    <p style=\"padding: 8px;color:white;\"><b><b><span style='color:#FFFFFF'></span></b> 1. Importing Required Libraries </b></p>\n",
        "</div>"
      ],
      "metadata": {
        "id": "g97a7szPsycD"
      }
    },
    {
      "cell_type": "code",
      "source": [
        "import pandas as pd\n",
        "import plotly.express as px\n",
        "import seaborn as sns\n",
        "import matplotlib.pyplot as plt\n",
        "from sklearn.model_selection import train_test_split\n",
        "from sklearn.metrics import accuracy_score,f1_score,precision_score,recall_score\n",
        "\n",
        "from sklearn.tree import DecisionTreeClassifier\n",
        "from sklearn.ensemble import RandomForestClassifier\n",
        "from sklearn.linear_model import LogisticRegression\n",
        "from sklearn.neighbors import KNeighborsClassifier\n",
        "from sklearn.ensemble import AdaBoostClassifier\n",
        "from xgboost import XGBClassifier\n",
        "from sklearn import svm\n",
        "\n",
        "\n",
        "from sklearn.model_selection import GridSearchCV, RandomizedSearchCV\n",
        "from sklearn.ensemble import VotingClassifier\n"
      ],
      "metadata": {
        "_uuid": "8f2839f25d086af736a60e9eeb907d3b93b6e0e5",
        "_cell_guid": "b1076dfc-b9ad-4769-8c92-a6c4dae69d19",
        "execution": {
          "iopub.status.busy": "2023-09-09T03:37:31.998122Z",
          "iopub.execute_input": "2023-09-09T03:37:31.998723Z",
          "iopub.status.idle": "2023-09-09T03:37:32.006875Z",
          "shell.execute_reply.started": "2023-09-09T03:37:31.998682Z",
          "shell.execute_reply": "2023-09-09T03:37:32.005733Z"
        },
        "trusted": true,
        "id": "48Xlk4WPsycE"
      },
      "execution_count": null,
      "outputs": []
    },
    {
      "cell_type": "code",
      "source": [
        "data = pd.read_csv(\"/kaggle/input/higher-education-predictors-of-student-retention/dataset.csv\")\n",
        "data.head()"
      ],
      "metadata": {
        "execution": {
          "iopub.status.busy": "2023-09-09T03:37:32.009187Z",
          "iopub.execute_input": "2023-09-09T03:37:32.009537Z",
          "iopub.status.idle": "2023-09-09T03:37:32.051587Z",
          "shell.execute_reply.started": "2023-09-09T03:37:32.009503Z",
          "shell.execute_reply": "2023-09-09T03:37:32.050612Z"
        },
        "trusted": true,
        "id": "WgnRCMKRsycG"
      },
      "execution_count": null,
      "outputs": []
    },
    {
      "cell_type": "code",
      "source": [
        "data.info()"
      ],
      "metadata": {
        "execution": {
          "iopub.status.busy": "2023-09-09T03:37:32.054562Z",
          "iopub.execute_input": "2023-09-09T03:37:32.054825Z",
          "iopub.status.idle": "2023-09-09T03:37:32.070892Z",
          "shell.execute_reply.started": "2023-09-09T03:37:32.054801Z",
          "shell.execute_reply": "2023-09-09T03:37:32.069884Z"
        },
        "trusted": true,
        "id": "iXrN_fAJsycH"
      },
      "execution_count": null,
      "outputs": []
    },
    {
      "cell_type": "markdown",
      "source": [
        "<div style=\"color:white;display:fill;border-radius:8px;\n",
        "            background-color:#03112A;font-size:150%;\n",
        "            letter-spacing:1.0px\">\n",
        "    <p style=\"padding: 8px;color:white;\"><b><b><span style='color:#FFFFFF'></span></b> 2. Data Preprocessing </b></p>\n",
        "</div>"
      ],
      "metadata": {
        "id": "SiqFdWIasycI"
      }
    },
    {
      "cell_type": "code",
      "source": [
        "data.rename(columns = {'Nacionality':'Nationality', 'Age at enrollment':'Age'}, inplace = True)"
      ],
      "metadata": {
        "execution": {
          "iopub.status.busy": "2023-09-09T03:37:32.073667Z",
          "iopub.execute_input": "2023-09-09T03:37:32.073999Z",
          "iopub.status.idle": "2023-09-09T03:37:32.079062Z",
          "shell.execute_reply.started": "2023-09-09T03:37:32.073965Z",
          "shell.execute_reply": "2023-09-09T03:37:32.077905Z"
        },
        "trusted": true,
        "id": "5lDISqkMsycI"
      },
      "execution_count": null,
      "outputs": []
    },
    {
      "cell_type": "markdown",
      "source": [
        "Lets check whether there is any null values in this dataset"
      ],
      "metadata": {
        "id": "YZ5fzsK6sycJ"
      }
    },
    {
      "cell_type": "code",
      "source": [
        "data.isnull().sum()/len(data)*100"
      ],
      "metadata": {
        "execution": {
          "iopub.status.busy": "2023-09-09T03:37:32.080829Z",
          "iopub.execute_input": "2023-09-09T03:37:32.081213Z",
          "iopub.status.idle": "2023-09-09T03:37:32.099708Z",
          "shell.execute_reply.started": "2023-09-09T03:37:32.081175Z",
          "shell.execute_reply": "2023-09-09T03:37:32.098504Z"
        },
        "trusted": true,
        "id": "PSZKb12TsycJ"
      },
      "execution_count": null,
      "outputs": []
    },
    {
      "cell_type": "markdown",
      "source": [
        "Hereby we can say that there is no null values in the dataset, which is a good news !\n",
        "so, we need to do two other steps before moving into the EDA part. They are,\n",
        "* Encoding the target column(Since it is the only non-numeric field in the dataset)\n",
        "* Feauture Engineering(Considering only the relevant data to feed our model)"
      ],
      "metadata": {
        "id": "df76yRIYsycJ"
      }
    },
    {
      "cell_type": "code",
      "source": [
        "print(data[\"Target\"].unique())"
      ],
      "metadata": {
        "execution": {
          "iopub.status.busy": "2023-09-09T03:37:32.101093Z",
          "iopub.execute_input": "2023-09-09T03:37:32.101441Z",
          "iopub.status.idle": "2023-09-09T03:37:32.11051Z",
          "shell.execute_reply.started": "2023-09-09T03:37:32.101414Z",
          "shell.execute_reply": "2023-09-09T03:37:32.109518Z"
        },
        "trusted": true,
        "id": "Cj_JN2scsycJ"
      },
      "execution_count": null,
      "outputs": []
    },
    {
      "cell_type": "markdown",
      "source": [
        "So there are 3 unique values in target column which we can replace by\n",
        "* Dropout - 0\n",
        "* Enrolled - 1\n",
        "* Graduate - 2"
      ],
      "metadata": {
        "id": "GWe0JwU2sycK"
      }
    },
    {
      "cell_type": "code",
      "source": [
        "data['Target'] = data['Target'].map({\n",
        "    'Dropout':0,\n",
        "    'Enrolled':1,\n",
        "    'Graduate':2\n",
        "})"
      ],
      "metadata": {
        "execution": {
          "iopub.status.busy": "2023-09-09T03:37:32.112527Z",
          "iopub.execute_input": "2023-09-09T03:37:32.113036Z",
          "iopub.status.idle": "2023-09-09T03:37:32.121387Z",
          "shell.execute_reply.started": "2023-09-09T03:37:32.11287Z",
          "shell.execute_reply": "2023-09-09T03:37:32.120458Z"
        },
        "trusted": true,
        "id": "ISzsOuCQsycK"
      },
      "execution_count": null,
      "outputs": []
    },
    {
      "cell_type": "code",
      "source": [
        "print(data[\"Target\"].unique())"
      ],
      "metadata": {
        "execution": {
          "iopub.status.busy": "2023-09-09T03:37:32.122585Z",
          "iopub.execute_input": "2023-09-09T03:37:32.123588Z",
          "iopub.status.idle": "2023-09-09T03:37:32.136475Z",
          "shell.execute_reply.started": "2023-09-09T03:37:32.123553Z",
          "shell.execute_reply": "2023-09-09T03:37:32.135387Z"
        },
        "trusted": true,
        "id": "nybgkWMHsycK"
      },
      "execution_count": null,
      "outputs": []
    },
    {
      "cell_type": "markdown",
      "source": [
        "Since the number of unique values is less, we used this map() method, if it is large consider using LableEncoder()"
      ],
      "metadata": {
        "id": "L-j1uFlYsycL"
      }
    },
    {
      "cell_type": "markdown",
      "source": [
        "So the first part is over.lets move on to the next part.\n",
        "for the next part we have to,\n",
        "1. Find how the features are correlated with the Target\n",
        "2. Remove other unwanted or irrelevant features from the data"
      ],
      "metadata": {
        "id": "Ya-nDWK9sycL"
      }
    },
    {
      "cell_type": "code",
      "source": [
        "data.corr()['Target']"
      ],
      "metadata": {
        "execution": {
          "iopub.status.busy": "2023-09-09T03:37:32.137923Z",
          "iopub.execute_input": "2023-09-09T03:37:32.13891Z",
          "iopub.status.idle": "2023-09-09T03:37:32.166325Z",
          "shell.execute_reply.started": "2023-09-09T03:37:32.138872Z",
          "shell.execute_reply": "2023-09-09T03:37:32.165411Z"
        },
        "trusted": true,
        "id": "9Q1oD-cqsycL"
      },
      "execution_count": null,
      "outputs": []
    },
    {
      "cell_type": "code",
      "source": [
        "plt.figure(figsize=(30, 30))\n",
        "sns.heatmap(data.corr() , annot=True, cmap='coolwarm', linewidths=0.5)\n",
        "plt.title('Correlation Heatmap')\n",
        "plt.show()"
      ],
      "metadata": {
        "execution": {
          "iopub.status.busy": "2023-09-09T03:37:32.170528Z",
          "iopub.execute_input": "2023-09-09T03:37:32.171266Z",
          "iopub.status.idle": "2023-09-09T03:37:36.071898Z",
          "shell.execute_reply.started": "2023-09-09T03:37:32.171233Z",
          "shell.execute_reply": "2023-09-09T03:37:36.071002Z"
        },
        "trusted": true,
        "id": "32Hsd_RAsycL"
      },
      "execution_count": null,
      "outputs": []
    },
    {
      "cell_type": "markdown",
      "source": [
        "To decide which columns to remove based on low correlation with the target variable ('Target'), you can set a correlation threshold and remove columns with correlations below that threshold. Here, I'll suggest removing columns with an absolute correlation coefficient less than 0.1 (you can adjust this threshold as needed). Here are some columns to consider removing:\n",
        "\n",
        "* **Nationality:** Since its correlation is very close to zero **(-0.004740)**, it may not have a significant impact on the target variable.\n",
        "\n",
        "* **Mother's qualification:** With a correlation of **-0.038346**, it appears to have a weak relationship with the target variable.\n",
        "\n",
        "* **Father's qualification:** Similarly, with a correlation of **0.000329**, it seems to have little influence on the target variable.\n",
        "\n",
        "* **Educational special needs:** This column has a low correlation of **-0.007353**, suggesting it may not strongly affect the target variable.\n",
        "\n",
        "* **International:** With a correlation of **0.003934**, this column has minimal impact on the target variable.\n",
        "\n",
        "* **Curricular units 1st sem (without evaluations):** It has a correlation of **-0.068702**, which is relatively low compared to other columns related to curricular units.\n",
        "\n",
        "* **Unemployment rate:** This column's correlation of **0.008627** indicates a weak relationship with the target variable.\n",
        "\n",
        "* **Inflation rate:** With a correlation of **-0.026874**, it has a relatively low impact on the target variable.\n",
        "\n",
        "These columns have low absolute correlation values and may not provide significant predictive power for your target variable 'Target.' However, before removing them, consider the context of your analysis and whether these columns may have any theoretical significance or could be useful in a broader context. Additionally, it's a good practice to run your analysis both with and without these columns to see if they make a meaningful difference in your model's performance."
      ],
      "metadata": {
        "id": "WYZqd2xQsycM"
      }
    },
    {
      "cell_type": "code",
      "source": [
        "new_data = data.copy()\n",
        "new_data = new_data.drop(columns=['Nationality',\n",
        "                                  'Mother\\'s qualification',\n",
        "                                  'Father\\'s qualification',\n",
        "                                  'Educational special needs',\n",
        "                                  'International',\n",
        "                                  'Curricular units 1st sem (without evaluations)',\n",
        "                                  'Unemployment rate',\n",
        "                                  'Inflation rate'], axis=1)\n",
        "new_data.info()"
      ],
      "metadata": {
        "execution": {
          "iopub.status.busy": "2023-09-09T03:37:36.073297Z",
          "iopub.execute_input": "2023-09-09T03:37:36.073865Z",
          "iopub.status.idle": "2023-09-09T03:37:36.094131Z",
          "shell.execute_reply.started": "2023-09-09T03:37:36.07383Z",
          "shell.execute_reply": "2023-09-09T03:37:36.093388Z"
        },
        "trusted": true,
        "id": "lApr3jcLsycM"
      },
      "execution_count": null,
      "outputs": []
    },
    {
      "cell_type": "markdown",
      "source": [
        "Lets move on to the EDA part"
      ],
      "metadata": {
        "id": "YgZJgNXasycM"
      }
    },
    {
      "cell_type": "markdown",
      "source": [
        "<div style=\"color:white;display:fill;border-radius:8px;\n",
        "            background-color:#03112A;font-size:150%;\n",
        "            letter-spacing:1.0px\">\n",
        "    <p style=\"padding: 8px;color:white;\"><b><b><span style='color:#FFFFFF'></span></b> 3. Exploratory Data Analysis </b></p>\n",
        "</div>"
      ],
      "metadata": {
        "id": "04o-gQ8ZsycM"
      }
    },
    {
      "cell_type": "markdown",
      "source": [
        "lets see how many dropouts, enrolled & graduates are there in Target column"
      ],
      "metadata": {
        "id": "b-L48QogsycN"
      }
    },
    {
      "cell_type": "code",
      "source": [
        "new_data['Target'].value_counts()"
      ],
      "metadata": {
        "execution": {
          "iopub.status.busy": "2023-09-09T03:37:36.095367Z",
          "iopub.execute_input": "2023-09-09T03:37:36.096331Z",
          "iopub.status.idle": "2023-09-09T03:37:36.104191Z",
          "shell.execute_reply.started": "2023-09-09T03:37:36.096297Z",
          "shell.execute_reply": "2023-09-09T03:37:36.103314Z"
        },
        "trusted": true,
        "id": "LjJfEXposycN"
      },
      "execution_count": null,
      "outputs": []
    },
    {
      "cell_type": "code",
      "source": [
        "x = new_data['Target'].value_counts().index\n",
        "y = new_data['Target'].value_counts().values\n",
        "\n",
        "df = pd.DataFrame({\n",
        "    'Target': x,\n",
        "    'Count_T' : y\n",
        "})\n",
        "\n",
        "fig = px.pie(df,\n",
        "             names ='Target',\n",
        "             values ='Count_T',\n",
        "            title='How many dropouts, enrolled & graduates are there in Target column')\n",
        "\n",
        "fig.update_traces(labels=['Graduate','Dropout','Enrolled'], hole=0.4,textinfo='value+label', pull=[0,0.2,0.1])\n",
        "fig.show()"
      ],
      "metadata": {
        "execution": {
          "iopub.status.busy": "2023-09-09T03:37:36.10574Z",
          "iopub.execute_input": "2023-09-09T03:37:36.106835Z",
          "iopub.status.idle": "2023-09-09T03:37:36.165866Z",
          "shell.execute_reply.started": "2023-09-09T03:37:36.106799Z",
          "shell.execute_reply": "2023-09-09T03:37:36.165021Z"
        },
        "trusted": true,
        "id": "oGpsF1josycN"
      },
      "execution_count": null,
      "outputs": []
    },
    {
      "cell_type": "markdown",
      "source": [
        "Let's plot the Top 10 Features with Highest Correlation to Target"
      ],
      "metadata": {
        "id": "XqeXCIwRsycN"
      }
    },
    {
      "cell_type": "code",
      "source": [
        "correlations = data.corr()['Target']\n",
        "top_10_features = correlations.abs().nlargest(10).index\n",
        "top_10_corr_values = correlations[top_10_features]\n",
        "\n",
        "plt.figure(figsize=(10, 11))\n",
        "plt.bar(top_10_features, top_10_corr_values)\n",
        "plt.xlabel('Features')\n",
        "plt.ylabel('Correlation with Target')\n",
        "plt.title('Top 10 Features with Highest Correlation to Target')\n",
        "plt.xticks(rotation=45)\n",
        "plt.show()"
      ],
      "metadata": {
        "execution": {
          "iopub.status.busy": "2023-09-09T03:37:36.167285Z",
          "iopub.execute_input": "2023-09-09T03:37:36.167881Z",
          "iopub.status.idle": "2023-09-09T03:37:36.636272Z",
          "shell.execute_reply.started": "2023-09-09T03:37:36.167846Z",
          "shell.execute_reply": "2023-09-09T03:37:36.635353Z"
        },
        "trusted": true,
        "id": "nv6IO8pDsycN"
      },
      "execution_count": null,
      "outputs": []
    },
    {
      "cell_type": "markdown",
      "source": [
        "Distribution of age of students at the time of enrollment"
      ],
      "metadata": {
        "id": "d5_uw35MsycO"
      }
    },
    {
      "cell_type": "code",
      "source": [
        "px.histogram(new_data['Age'], x='Age',color_discrete_sequence=['lightblue'])"
      ],
      "metadata": {
        "execution": {
          "iopub.status.busy": "2023-09-09T03:37:36.637718Z",
          "iopub.execute_input": "2023-09-09T03:37:36.638527Z",
          "iopub.status.idle": "2023-09-09T03:37:36.727976Z",
          "shell.execute_reply.started": "2023-09-09T03:37:36.63849Z",
          "shell.execute_reply": "2023-09-09T03:37:36.727082Z"
        },
        "trusted": true,
        "id": "oC2Y_DwmsycO"
      },
      "execution_count": null,
      "outputs": []
    },
    {
      "cell_type": "code",
      "source": [
        "plt.figure(figsize=(10, 6))\n",
        "sns.boxplot(x='Target', y='Age', data=new_data)\n",
        "plt.xlabel('Target')\n",
        "plt.ylabel('Age')\n",
        "plt.title('Relationship between Age and Target')\n",
        "plt.show()"
      ],
      "metadata": {
        "execution": {
          "iopub.status.busy": "2023-09-09T03:37:36.732321Z",
          "iopub.execute_input": "2023-09-09T03:37:36.735394Z",
          "iopub.status.idle": "2023-09-09T03:37:37.09082Z",
          "shell.execute_reply.started": "2023-09-09T03:37:36.735315Z",
          "shell.execute_reply": "2023-09-09T03:37:37.0897Z"
        },
        "trusted": true,
        "id": "DtjpLwDZsycO"
      },
      "execution_count": null,
      "outputs": []
    },
    {
      "cell_type": "code",
      "source": [
        "X = new_data.drop('Target', axis=1)\n",
        "y = new_data['Target']"
      ],
      "metadata": {
        "execution": {
          "iopub.status.busy": "2023-09-09T03:37:37.092258Z",
          "iopub.execute_input": "2023-09-09T03:37:37.092618Z",
          "iopub.status.idle": "2023-09-09T03:37:37.105455Z",
          "shell.execute_reply.started": "2023-09-09T03:37:37.092583Z",
          "shell.execute_reply": "2023-09-09T03:37:37.101385Z"
        },
        "trusted": true,
        "id": "adxW7-nisycO"
      },
      "execution_count": null,
      "outputs": []
    },
    {
      "cell_type": "code",
      "source": [
        "X_train,X_test,y_train,y_test = train_test_split(X,y,test_size=0.2,random_state=0)"
      ],
      "metadata": {
        "execution": {
          "iopub.status.busy": "2023-09-09T03:37:37.107484Z",
          "iopub.execute_input": "2023-09-09T03:37:37.107867Z",
          "iopub.status.idle": "2023-09-09T03:37:37.122296Z",
          "shell.execute_reply.started": "2023-09-09T03:37:37.107829Z",
          "shell.execute_reply": "2023-09-09T03:37:37.121378Z"
        },
        "trusted": true,
        "id": "ihGmyFlUsycP"
      },
      "execution_count": null,
      "outputs": []
    },
    {
      "cell_type": "markdown",
      "source": [
        "<div style=\"color:white;display:fill;border-radius:8px;\n",
        "            background-color:#03112A;font-size:150%;\n",
        "            letter-spacing:1.0px\">\n",
        "    <p style=\"padding: 8px;color:white;\"><b><b><span style='color:#FFFFFF'></span></b> 4. Building Models </b></p>\n",
        "</div>"
      ],
      "metadata": {
        "id": "iKTOWJERsycP"
      }
    },
    {
      "cell_type": "code",
      "source": [
        "dtree = DecisionTreeClassifier(random_state=0)\n",
        "rfc = RandomForestClassifier(random_state=2)\n",
        "lr = LogisticRegression(random_state=42)\n",
        "knn = KNeighborsClassifier(n_neighbors=3)\n",
        "abc = AdaBoostClassifier(n_estimators=50,learning_rate=1, random_state=0)\n",
        "xbc = XGBClassifier(tree_method='gpu_hist')\n",
        "svm = svm.SVC(kernel='linear',probability=True)"
      ],
      "metadata": {
        "execution": {
          "iopub.status.busy": "2023-09-09T03:37:37.125692Z",
          "iopub.execute_input": "2023-09-09T03:37:37.126768Z",
          "iopub.status.idle": "2023-09-09T03:37:37.138574Z",
          "shell.execute_reply.started": "2023-09-09T03:37:37.126729Z",
          "shell.execute_reply": "2023-09-09T03:37:37.137487Z"
        },
        "trusted": true,
        "id": "Hi6qhzePsycP"
      },
      "execution_count": null,
      "outputs": []
    },
    {
      "cell_type": "code",
      "source": [
        "dtree.fit(X_train,y_train)\n",
        "rfc.fit(X_train,y_train)\n",
        "lr.fit(X_train,y_train)\n",
        "knn.fit(X_train,y_train)\n",
        "abc.fit(X_train, y_train)\n",
        "xbc.fit(X_train, y_train)\n",
        "svm.fit(X_train, y_train)"
      ],
      "metadata": {
        "execution": {
          "iopub.status.busy": "2023-09-09T03:37:37.142463Z",
          "iopub.execute_input": "2023-09-09T03:37:37.144055Z",
          "iopub.status.idle": "2023-09-09T03:37:52.132246Z",
          "shell.execute_reply.started": "2023-09-09T03:37:37.144017Z",
          "shell.execute_reply": "2023-09-09T03:37:52.131234Z"
        },
        "trusted": true,
        "id": "gZ2dNl5JsycU"
      },
      "execution_count": null,
      "outputs": []
    },
    {
      "cell_type": "code",
      "source": [
        "y_pred = dtree.predict(X_test)\n",
        "print(\"Accuracy :\",round(accuracy_score(y_test,y_pred)*100,2),\"%\")"
      ],
      "metadata": {
        "execution": {
          "iopub.status.busy": "2023-09-09T03:37:52.133629Z",
          "iopub.execute_input": "2023-09-09T03:37:52.133997Z",
          "iopub.status.idle": "2023-09-09T03:37:52.145422Z",
          "shell.execute_reply.started": "2023-09-09T03:37:52.133961Z",
          "shell.execute_reply": "2023-09-09T03:37:52.143289Z"
        },
        "trusted": true,
        "id": "OHnx2SQ6sycU"
      },
      "execution_count": null,
      "outputs": []
    },
    {
      "cell_type": "code",
      "source": [
        "y_pred = rfc.predict(X_test)\n",
        "print(\"Accuracy :\",round(accuracy_score(y_test,y_pred)*100,2),\"%\")"
      ],
      "metadata": {
        "execution": {
          "iopub.status.busy": "2023-09-09T03:37:52.147055Z",
          "iopub.execute_input": "2023-09-09T03:37:52.14781Z",
          "iopub.status.idle": "2023-09-09T03:37:52.185397Z",
          "shell.execute_reply.started": "2023-09-09T03:37:52.147772Z",
          "shell.execute_reply": "2023-09-09T03:37:52.184408Z"
        },
        "trusted": true,
        "id": "9jcIRiC0sycU"
      },
      "execution_count": null,
      "outputs": []
    },
    {
      "cell_type": "code",
      "source": [
        "y_pred = lr.predict(X_test)\n",
        "print(\"Accuracy :\",round(accuracy_score(y_test,y_pred)*100,2),\"%\")"
      ],
      "metadata": {
        "execution": {
          "iopub.status.busy": "2023-09-09T03:37:52.186605Z",
          "iopub.execute_input": "2023-09-09T03:37:52.187627Z",
          "iopub.status.idle": "2023-09-09T03:37:52.197091Z",
          "shell.execute_reply.started": "2023-09-09T03:37:52.187592Z",
          "shell.execute_reply": "2023-09-09T03:37:52.196183Z"
        },
        "trusted": true,
        "id": "8jL5dssgsycU"
      },
      "execution_count": null,
      "outputs": []
    },
    {
      "cell_type": "code",
      "source": [
        "y_pred = knn.predict(X_test)\n",
        "print(\"Accuracy :\",round(accuracy_score(y_test,y_pred)*100,2),\"%\")"
      ],
      "metadata": {
        "execution": {
          "iopub.status.busy": "2023-09-09T03:37:52.198222Z",
          "iopub.execute_input": "2023-09-09T03:37:52.199178Z",
          "iopub.status.idle": "2023-09-09T03:37:52.255428Z",
          "shell.execute_reply.started": "2023-09-09T03:37:52.199143Z",
          "shell.execute_reply": "2023-09-09T03:37:52.254511Z"
        },
        "trusted": true,
        "id": "6CU3p0mGsycV"
      },
      "execution_count": null,
      "outputs": []
    },
    {
      "cell_type": "code",
      "source": [
        "y_pred = abc.predict(X_test)\n",
        "print(\"Accuracy :\",round(accuracy_score(y_test,y_pred)*100,2),\"%\")"
      ],
      "metadata": {
        "execution": {
          "iopub.status.busy": "2023-09-09T03:37:52.260984Z",
          "iopub.execute_input": "2023-09-09T03:37:52.2634Z",
          "iopub.status.idle": "2023-09-09T03:37:52.292162Z",
          "shell.execute_reply.started": "2023-09-09T03:37:52.263362Z",
          "shell.execute_reply": "2023-09-09T03:37:52.291221Z"
        },
        "trusted": true,
        "id": "WSFXcUZAsycV"
      },
      "execution_count": null,
      "outputs": []
    },
    {
      "cell_type": "code",
      "source": [
        "y_pred = xbc.predict(X_test)\n",
        "print(\"Accuracy :\",round(accuracy_score(y_test,y_pred)*100,2),\"%\")"
      ],
      "metadata": {
        "execution": {
          "iopub.status.busy": "2023-09-09T03:37:52.293634Z",
          "iopub.execute_input": "2023-09-09T03:37:52.293959Z",
          "iopub.status.idle": "2023-09-09T03:37:52.309279Z",
          "shell.execute_reply.started": "2023-09-09T03:37:52.293927Z",
          "shell.execute_reply": "2023-09-09T03:37:52.30838Z"
        },
        "trusted": true,
        "id": "XeuQFQ6BsycV"
      },
      "execution_count": null,
      "outputs": []
    },
    {
      "cell_type": "code",
      "source": [
        "y_pred = svm.predict(X_test)\n",
        "print(\"Accuracy :\",round(accuracy_score(y_test,y_pred)*100,2),\"%\")"
      ],
      "metadata": {
        "execution": {
          "iopub.status.busy": "2023-09-09T03:37:52.310695Z",
          "iopub.execute_input": "2023-09-09T03:37:52.310999Z",
          "iopub.status.idle": "2023-09-09T03:37:52.365208Z",
          "shell.execute_reply.started": "2023-09-09T03:37:52.310972Z",
          "shell.execute_reply": "2023-09-09T03:37:52.364236Z"
        },
        "trusted": true,
        "id": "QjBEzH4ZsycV"
      },
      "execution_count": null,
      "outputs": []
    },
    {
      "cell_type": "markdown",
      "source": [
        "So, Lets improve our accuracy using Ensemble Voting Classifier"
      ],
      "metadata": {
        "id": "Nn-RbVnUsycV"
      }
    },
    {
      "cell_type": "code",
      "source": [
        "#param_grid = {\n",
        "#    'bootstrap': [False,True],\n",
        "#    'max_depth': [5,8,10, 20],\n",
        "#    'max_features': [3, 4, 5, None],\n",
        "#    'min_samples_split': [2, 10, 12],\n",
        "#    'n_estimators': [100, 200, 300]\n",
        "#}\n",
        "\n",
        "#clf = GridSearchCV(estimator = rfc, param_grid = param_grid, cv = 5, n_jobs = -1, verbose = 1)\n",
        "\n",
        "#clf.fit(X_train,y_train)\n",
        "#y_pred = clf.predict(X_test)\n",
        "#print(\"Accuracy: \",accuracy_score(y_test,y_pred))\n",
        "#print(clf.best_params_)\n",
        "#print(clf.best_estimator_)"
      ],
      "metadata": {
        "execution": {
          "iopub.status.busy": "2023-09-09T03:37:52.366438Z",
          "iopub.execute_input": "2023-09-09T03:37:52.366971Z",
          "iopub.status.idle": "2023-09-09T03:37:52.371822Z",
          "shell.execute_reply.started": "2023-09-09T03:37:52.366936Z",
          "shell.execute_reply": "2023-09-09T03:37:52.370828Z"
        },
        "trusted": true,
        "id": "FIuvcfmosycV"
      },
      "execution_count": null,
      "outputs": []
    },
    {
      "cell_type": "code",
      "source": [
        "ens1 = VotingClassifier(estimators=[('rfc', rfc), ('lr', lr), ('abc',abc), ('xbc',xbc)], voting='soft')\n",
        "ens1.fit(X_train, y_train)\n",
        "\n",
        "y_pred = ens1.predict(X_test)\n",
        "print(\"Accuracy :\",round(accuracy_score(y_test,y_pred)*100,2),\"%\")"
      ],
      "metadata": {
        "execution": {
          "iopub.status.busy": "2023-09-09T03:37:52.373228Z",
          "iopub.execute_input": "2023-09-09T03:37:52.373568Z",
          "iopub.status.idle": "2023-09-09T03:37:54.115174Z",
          "shell.execute_reply.started": "2023-09-09T03:37:52.373534Z",
          "shell.execute_reply": "2023-09-09T03:37:54.114398Z"
        },
        "trusted": true,
        "id": "oneXXD9BsycV"
      },
      "execution_count": null,
      "outputs": []
    },
    {
      "cell_type": "code",
      "source": [
        "ens2 = VotingClassifier(estimators=[('rfc', rfc), ('lr', lr), ('abc',abc), ('xbc',xbc)], voting='hard')\n",
        "ens2.fit(X_train, y_train)\n",
        "\n",
        "y_pred = ens2.predict(X_test)\n",
        "print(\"Accuracy :\",round(accuracy_score(y_test,y_pred)*100,2),\"%\")"
      ],
      "metadata": {
        "execution": {
          "iopub.status.busy": "2023-09-09T03:37:54.118593Z",
          "iopub.execute_input": "2023-09-09T03:37:54.121158Z",
          "iopub.status.idle": "2023-09-09T03:37:55.649927Z",
          "shell.execute_reply.started": "2023-09-09T03:37:54.121112Z",
          "shell.execute_reply": "2023-09-09T03:37:55.649137Z"
        },
        "trusted": true,
        "id": "yQeU5xO_sycW"
      },
      "execution_count": null,
      "outputs": []
    },
    {
      "cell_type": "markdown",
      "source": [
        "There is still some works have to be done, Im leaving it here for further Development"
      ],
      "metadata": {
        "id": "JXEYjMvpsycW"
      }
    }
  ]
}